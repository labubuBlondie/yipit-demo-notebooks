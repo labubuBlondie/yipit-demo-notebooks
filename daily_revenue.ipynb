{
 "cells": [
  {
   "cell_type": "code",
   "execution_count": 3,
   "id": "47d1c160-7d98-444a-a7cc-ea05c5d19cab",
   "metadata": {},
   "outputs": [],
   "source": [
    "import pandas as pd"
   ]
  },
  {
   "cell_type": "code",
   "execution_count": 9,
   "id": "adcac0ad-5a97-4367-9d3f-7d199ef6586f",
   "metadata": {},
   "outputs": [],
   "source": [
    "df = pd.read_csv(\"sample_sales.csv\", parse_dates=[\"date\"])"
   ]
  },
  {
   "cell_type": "code",
   "execution_count": 10,
   "id": "60e1a516-5b0e-4e86-90e8-a20fe2080a07",
   "metadata": {},
   "outputs": [],
   "source": [
    "df = pd.read_csv(\"data/sample_sales.csv\", parse_dates=[\"date\"])"
   ]
  },
  {
   "cell_type": "code",
   "execution_count": 11,
   "id": "5f7d20f9-1cb4-49a5-ae85-9526b2828e9b",
   "metadata": {},
   "outputs": [
    {
     "data": {
      "text/html": [
       "<div>\n",
       "<style scoped>\n",
       "    .dataframe tbody tr th:only-of-type {\n",
       "        vertical-align: middle;\n",
       "    }\n",
       "\n",
       "    .dataframe tbody tr th {\n",
       "        vertical-align: top;\n",
       "    }\n",
       "\n",
       "    .dataframe thead th {\n",
       "        text-align: right;\n",
       "    }\n",
       "</style>\n",
       "<table border=\"1\" class=\"dataframe\">\n",
       "  <thead>\n",
       "    <tr style=\"text-align: right;\">\n",
       "      <th></th>\n",
       "      <th>date</th>\n",
       "      <th>category</th>\n",
       "      <th>channel</th>\n",
       "      <th>region</th>\n",
       "      <th>customer_id</th>\n",
       "      <th>units</th>\n",
       "      <th>unit_price</th>\n",
       "      <th>revenue</th>\n",
       "    </tr>\n",
       "  </thead>\n",
       "  <tbody>\n",
       "    <tr>\n",
       "      <th>0</th>\n",
       "      <td>2025-06-01</td>\n",
       "      <td>Beauty</td>\n",
       "      <td>App</td>\n",
       "      <td>West</td>\n",
       "      <td>1046</td>\n",
       "      <td>2</td>\n",
       "      <td>31.22</td>\n",
       "      <td>62.89</td>\n",
       "    </tr>\n",
       "    <tr>\n",
       "      <th>1</th>\n",
       "      <td>2025-06-02</td>\n",
       "      <td>Fashion</td>\n",
       "      <td>Web</td>\n",
       "      <td>International</td>\n",
       "      <td>1030</td>\n",
       "      <td>3</td>\n",
       "      <td>39.96</td>\n",
       "      <td>117.92</td>\n",
       "    </tr>\n",
       "    <tr>\n",
       "      <th>2</th>\n",
       "      <td>2025-06-03</td>\n",
       "      <td>Groceries</td>\n",
       "      <td>Affiliate</td>\n",
       "      <td>West</td>\n",
       "      <td>1080</td>\n",
       "      <td>5</td>\n",
       "      <td>40.62</td>\n",
       "      <td>221.28</td>\n",
       "    </tr>\n",
       "    <tr>\n",
       "      <th>3</th>\n",
       "      <td>2025-06-04</td>\n",
       "      <td>Fashion</td>\n",
       "      <td>Web</td>\n",
       "      <td>International</td>\n",
       "      <td>1071</td>\n",
       "      <td>2</td>\n",
       "      <td>33.04</td>\n",
       "      <td>62.39</td>\n",
       "    </tr>\n",
       "    <tr>\n",
       "      <th>4</th>\n",
       "      <td>2025-06-05</td>\n",
       "      <td>Electronics</td>\n",
       "      <td>Email</td>\n",
       "      <td>West</td>\n",
       "      <td>1087</td>\n",
       "      <td>3</td>\n",
       "      <td>39.73</td>\n",
       "      <td>114.62</td>\n",
       "    </tr>\n",
       "  </tbody>\n",
       "</table>\n",
       "</div>"
      ],
      "text/plain": [
       "        date     category    channel         region  customer_id  units  \\\n",
       "0 2025-06-01       Beauty        App           West         1046      2   \n",
       "1 2025-06-02      Fashion        Web  International         1030      3   \n",
       "2 2025-06-03    Groceries  Affiliate           West         1080      5   \n",
       "3 2025-06-04      Fashion        Web  International         1071      2   \n",
       "4 2025-06-05  Electronics      Email           West         1087      3   \n",
       "\n",
       "   unit_price  revenue  \n",
       "0       31.22    62.89  \n",
       "1       39.96   117.92  \n",
       "2       40.62   221.28  \n",
       "3       33.04    62.39  \n",
       "4       39.73   114.62  "
      ]
     },
     "execution_count": 11,
     "metadata": {},
     "output_type": "execute_result"
    }
   ],
   "source": [
    "df.head()"
   ]
  },
  {
   "cell_type": "code",
   "execution_count": 12,
   "id": "51c48af7-e86a-4651-aeec-4a15d4fe2cf0",
   "metadata": {},
   "outputs": [
    {
     "data": {
      "text/html": [
       "<div>\n",
       "<style scoped>\n",
       "    .dataframe tbody tr th:only-of-type {\n",
       "        vertical-align: middle;\n",
       "    }\n",
       "\n",
       "    .dataframe tbody tr th {\n",
       "        vertical-align: top;\n",
       "    }\n",
       "\n",
       "    .dataframe thead th {\n",
       "        text-align: right;\n",
       "    }\n",
       "</style>\n",
       "<table border=\"1\" class=\"dataframe\">\n",
       "  <thead>\n",
       "    <tr style=\"text-align: right;\">\n",
       "      <th></th>\n",
       "      <th>category</th>\n",
       "      <th>revenue</th>\n",
       "    </tr>\n",
       "  </thead>\n",
       "  <tbody>\n",
       "    <tr>\n",
       "      <th>0</th>\n",
       "      <td>Beauty</td>\n",
       "      <td>13654.39</td>\n",
       "    </tr>\n",
       "    <tr>\n",
       "      <th>1</th>\n",
       "      <td>Electronics</td>\n",
       "      <td>14801.61</td>\n",
       "    </tr>\n",
       "    <tr>\n",
       "      <th>2</th>\n",
       "      <td>Fashion</td>\n",
       "      <td>12733.98</td>\n",
       "    </tr>\n",
       "    <tr>\n",
       "      <th>3</th>\n",
       "      <td>Groceries</td>\n",
       "      <td>13485.17</td>\n",
       "    </tr>\n",
       "    <tr>\n",
       "      <th>4</th>\n",
       "      <td>Home</td>\n",
       "      <td>9102.43</td>\n",
       "    </tr>\n",
       "  </tbody>\n",
       "</table>\n",
       "</div>"
      ],
      "text/plain": [
       "      category   revenue\n",
       "0       Beauty  13654.39\n",
       "1  Electronics  14801.61\n",
       "2      Fashion  12733.98\n",
       "3    Groceries  13485.17\n",
       "4         Home   9102.43"
      ]
     },
     "execution_count": 12,
     "metadata": {},
     "output_type": "execute_result"
    }
   ],
   "source": [
    "df.groupby(\"category\")[\"revenue\"].sum().reset_index()"
   ]
  },
  {
   "cell_type": "code",
   "execution_count": 13,
   "id": "a2b7dc3c-f125-4727-bcec-2aa0eeffa0df",
   "metadata": {},
   "outputs": [],
   "source": [
    "import matplotlib.pyplot as plt"
   ]
  },
  {
   "cell_type": "code",
   "execution_count": 23,
   "id": "7c752a20-b84c-4583-ac53-7aa96ed47717",
   "metadata": {
    "scrolled": true
   },
   "outputs": [
    {
     "data": {
      "image/png": "[encoded data removed]",
      "text/plain": [
       "<Figure size 640x480 with 1 Axes>"
      ]
     },
     "metadata": {},
     "output_type": "display_data"
    }
   ],
   "source": [
    "df.groupby(\"category\")[\"revenue\"].sum().plot(kind=\"bar\")\n",
    "plt.title(\"Revenue by Category\")\n",
    "plt.ylabel(\"Revenue\")\n",
    "plt.show()"
   ]
  },
  {
   "cell_type": "markdown",
   "id": "e37176f8-fbaa-41aa-833a-e71a78a846c4",
   "metadata": {},
   "source": [
    "## Findings\n",
    "- Electronics and Groceries drive the most revenue\n",
    "- Beauty is lower but steady\n",
    "- Next step: check revenue by channel"
   ]
  },
  {
   "cell_type": "markdown",
   "id": "abea6551-569c-472a-9ef0-85a468de4c5f",
   "metadata": {},
   "source": [
    "# Branch test”"
   ]
  }
 ],
 "metadata": {
  "kernelspec": {
   "display_name": "Python 3 (ipykernel)",
   "language": "python",
   "name": "python3"
  },
  "language_info": {
   "codemirror_mode": {
    "name": "ipython",
    "version": 3
   },
   "file_extension": ".py",
   "mimetype": "text/x-python",
   "name": "python",
   "nbconvert_exporter": "python",
   "pygments_lexer": "ipython3",
   "version": "3.13.5"
  }
 },
 "nbformat": 4,
 "nbformat_minor": 5
}
